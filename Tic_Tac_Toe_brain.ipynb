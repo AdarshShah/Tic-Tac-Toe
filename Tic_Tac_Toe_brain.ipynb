{
  "nbformat": 4,
  "nbformat_minor": 0,
  "metadata": {
    "colab": {
      "name": "Tic Tac Toe brain",
      "provenance": [],
      "collapsed_sections": []
    },
    "kernelspec": {
      "name": "python3",
      "display_name": "Python 3"
    }
  },
  "cells": [
    {
      "cell_type": "code",
      "metadata": {
        "id": "eCf6bLFcjXJQ",
        "colab_type": "code",
        "colab": {}
      },
      "source": [
        "import numpy as np\n",
        "from keras.models import Model, Sequential\n",
        "from keras.layers import Dense, GRU, Activation,Input, Reshape, Embedding, Flatten, LeakyReLU, Conv2D, MaxPool2D\n",
        "import random\n",
        "from sklearn.preprocessing import OrdinalEncoder, StandardScaler\n",
        "from sklearn.model_selection import train_test_split\n",
        "from keras.preprocessing.sequence import pad_sequences\n",
        "import scipy.sparse as sp\n",
        "import pandas as pd"
      ],
      "execution_count": 0,
      "outputs": []
    },
    {
      "cell_type": "code",
      "metadata": {
        "id": "1hWmO55HTJlJ",
        "colab_type": "code",
        "colab": {}
      },
      "source": [
        "dataset = pd.read_csv(\"https://raw.githubusercontent.com/datasets/tic-tac-toe/master/data/tic-tac-toe.csv\")\n",
        "dataset = dataset.loc[dataset['class']==True]\n",
        "dataset = dataset.iloc[:,:-1]\n",
        "dataset = np.array(dataset)"
      ],
      "execution_count": 0,
      "outputs": []
    },
    {
      "cell_type": "code",
      "metadata": {
        "id": "5ZrEoIkGeYCJ",
        "colab_type": "code",
        "colab": {}
      },
      "source": [
        "np.shape(dataset)"
      ],
      "execution_count": 0,
      "outputs": []
    },
    {
      "cell_type": "code",
      "metadata": {
        "id": "pWblpL5MVJaF",
        "colab_type": "code",
        "colab": {}
      },
      "source": [
        "def gen_data(gameboard):\n",
        "  x_data = []\n",
        "  y_data = []\n",
        "\n",
        "  while 'x' in gameboard:\n",
        "    x = np.argwhere(gameboard=='x')\n",
        "    x = np.reshape(x,x.size)\n",
        "    o = np.argwhere(gameboard=='o')\n",
        "    o = np.reshape(o,o.size)\n",
        "    if x.size-o.size != 1:\n",
        "      print(str(x.size)+\" \"+str(o.size))\n",
        "    \n",
        "    index = random.sample(set(x),1)\n",
        "    gb = np.zeros(9)\n",
        "    gb[index] = 1\n",
        "    y_data = np.append(y_data,gb)\n",
        "    gameboard[index] = 'b'\n",
        "    x_data = np.append(x_data,gameboard)\n",
        "    if 'o' not in gameboard:\n",
        "      break\n",
        "    index = random.sample(set(o),1)        \n",
        "    gameboard[index] = 'b'\n",
        "  x_data = np.reshape(x_data,(-1,9))\n",
        "  y_data = np.reshape(y_data,(-1,9))\n",
        "  return x_data,y_data"
      ],
      "execution_count": 0,
      "outputs": []
    },
    {
      "cell_type": "code",
      "metadata": {
        "id": "FSoj4LKVutCa",
        "colab_type": "code",
        "colab": {}
      },
      "source": [
        "x_dataset = []\n",
        "y_dataset = []\n",
        "for data in dataset:\n",
        "  x,y = gen_data(data)\n",
        "  for i,j in zip(x,y):\n",
        "    if i not in x_dataset or j not in y_dataset:\n",
        "      x_dataset = np.append(x_dataset,i)\n",
        "      y_dataset = np.append(y_dataset,j)\n",
        "x_dataset = np.reshape(x_dataset,(-1,9))\n",
        "y_dataset = np.reshape(y_dataset,(-1,9))  "
      ],
      "execution_count": 0,
      "outputs": []
    },
    {
      "cell_type": "code",
      "metadata": {
        "id": "UlEy27uTW46v",
        "colab_type": "code",
        "colab": {}
      },
      "source": [
        "OE = OrdinalEncoder(categories='auto')\n",
        "SS = StandardScaler()\n",
        "def gameboard_transform(gameboard,OE=OE,SS=SS):\n",
        "  gameboard = OE.fit_transform(gameboard)\n",
        "  gameboard = SS.fit_transform(gameboard)\n",
        "  return gameboard\n",
        "def inverse_gameboard_transform(gameboard,OE=OE,SS=SS):\n",
        "  gameboard = SS.inverse_transform(gameboard)\n",
        "  gameboard = OE.inverse_transform(gameboard)\n",
        "  return gameboard"
      ],
      "execution_count": 0,
      "outputs": []
    },
    {
      "cell_type": "code",
      "metadata": {
        "id": "Digb0BPZ61tO",
        "colab_type": "code",
        "colab": {}
      },
      "source": [
        "random.sample(list(x_dataset),5)"
      ],
      "execution_count": 0,
      "outputs": []
    },
    {
      "cell_type": "code",
      "metadata": {
        "id": "arp6bzHaX5A9",
        "colab_type": "code",
        "colab": {}
      },
      "source": [
        "x_dataset = gameboard_transform(x_dataset)"
      ],
      "execution_count": 0,
      "outputs": []
    },
    {
      "cell_type": "code",
      "metadata": {
        "id": "zYRyL7Day7Pn",
        "colab_type": "code",
        "colab": {}
      },
      "source": [
        "print(np.shape(x_dataset))\n",
        "print(np.shape(y_dataset))"
      ],
      "execution_count": 0,
      "outputs": []
    },
    {
      "cell_type": "code",
      "metadata": {
        "id": "xyX-c1vVZpxY",
        "colab_type": "code",
        "colab": {}
      },
      "source": [
        "model = Sequential()\n",
        "#model.add(Reshape((1,3,3),input_shape=(9,)))\n",
        "#model.add(Conv2D(9,kernel_size=(3,3),padding='same',activation='sigmoid'))\n",
        "#model.add(MaxPool2D(pool_size=(2,2),strides=(1,1),padding='same'))\n",
        "#model.add(Flatten())\n",
        "model.add(Dense(9**3,activation='tanh',input_shape=(9,)))\n",
        "model.add(Dense(9*2,activation='tanh'))\n",
        "model.add(Dense(9,activation='tanh'))\n",
        "model.add(Dense(9,activation='softmax'))\n",
        "\n",
        "model.compile(optimizer='adam',loss='categorical_crossentropy',metrics=['accuracy'])\n",
        "\n",
        "model.summary()"
      ],
      "execution_count": 0,
      "outputs": []
    },
    {
      "cell_type": "code",
      "metadata": {
        "id": "dtyqpCEfbg94",
        "colab_type": "code",
        "colab": {}
      },
      "source": [
        "model.fit(x=x_dataset,y=y_dataset,epochs=100,batch_size=32)"
      ],
      "execution_count": 0,
      "outputs": []
    },
    {
      "cell_type": "code",
      "metadata": {
        "id": "hIzLA5jRdRk6",
        "colab_type": "code",
        "colab": {}
      },
      "source": [
        "model.save('tictactoe.h5')"
      ],
      "execution_count": 0,
      "outputs": []
    },
    {
      "cell_type": "code",
      "metadata": {
        "id": "LqOWgrj6eUSX",
        "colab_type": "code",
        "colab": {}
      },
      "source": [
        "def is_game_over(game_board):\n",
        "  game_board = np.reshape(game_board,9)\n",
        "  win_seq = [[0,1,2],[3,4,5],[6,7,8],[0,3,6],[1,4,7],[2,5,8],[0,4,8],[2,4,6]]\n",
        "  for i in win_seq:\n",
        "   if game_board[i[0]] == game_board[i[1]] == game_board[i[2]] == 'x':\n",
        "     return 'X'\n",
        "   if game_board[i[0]] == game_board[i[1]] == game_board[i[2]] == 'o':\n",
        "     return 'O'\n",
        "  if 'b' not in game_board:\n",
        "   return 'D'\n",
        "  return 'N'      "
      ],
      "execution_count": 0,
      "outputs": []
    },
    {
      "cell_type": "code",
      "metadata": {
        "id": "nZQzm7Qti90Q",
        "colab_type": "code",
        "colab": {}
      },
      "source": [
        "x = random.sample(list(x_dataset),1)\n",
        "print(x)\n",
        "y = model.predict(np.reshape(x,(1,9)))\n",
        "x = inverse_gameboard_transform(x)\n",
        "print(np.argmax(y))"
      ],
      "execution_count": 0,
      "outputs": []
    },
    {
      "cell_type": "code",
      "metadata": {
        "id": "zFQesspn4T9e",
        "colab_type": "code",
        "colab": {}
      },
      "source": [
        "gameboard = [['b','b','b','b','b','b','b','b','b']]\n",
        "\n",
        "def print_gameboard(x):\n",
        "  print(x[0][0]+\" \"+x[0][1]+\" \"+x[0][2])\n",
        "  print(x[0][3]+\" \"+x[0][4]+\" \"+x[0][5])\n",
        "  print(x[0][6]+\" \"+x[0][7]+\" \"+x[0][8])\n",
        "  \n",
        "\n",
        "while is_game_over(gameboard) == 'N':\n",
        "  x = OE.transform(gameboard)\n",
        "  x = SS.transform(x)\n",
        "  m_x = model.predict(x)\n",
        "  index = np.argmax(m_x)\n",
        "  gameboard[0][index] = 'x'\n",
        "  print_gameboard(gameboard)\n",
        "  if is_game_over(gameboard) == 'X':\n",
        "    print(\"Computer wins\")\n",
        "    break\n",
        "  if is_game_over(gameboard) == 'D':\n",
        "    print(\"Draw\")\n",
        "    break\n",
        "  o = int(input(\"Enter between 1-9 : \"))\n",
        "  o = o-1\n",
        "  while gameboard[0][o] == 'x':\n",
        "    o = int(input(\"Enter between 1-9 : \"))\n",
        "    o = o-1\n",
        "  gameboard[0][o] = 'o'\n",
        "  if is_game_over(gameboard) == 'O':\n",
        "    print(\"You win\")\n",
        "    break\n",
        "  if is_game_over(gameboard) == 'D':\n",
        "    print(\"Draw\")\n",
        "    break"
      ],
      "execution_count": 0,
      "outputs": []
    }
  ]
}